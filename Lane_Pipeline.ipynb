{
 "cells": [
  {
   "cell_type": "markdown",
   "metadata": {},
   "source": [
    "## Tools to map out the lane on an image of the road\n",
    "\n",
    "1. calibrate the camera \n",
    "2. Correct for image distortion \n",
    "3. Implement a color and gradient threshold \n",
    "4. Fourth warp the image using perspective transform\n",
    "\n",
    "Next decide which pixels are lane line pixels and then determine the line shape and position\n",
    "\n",
    "5. Detect lane lines\n",
    "6. Determine the lane curvature"
   ]
  },
  {
   "cell_type": "markdown",
   "metadata": {},
   "source": [
    "STEP1: compute the camera calibration matrix and distortion coefficients. Apply them to undistort each new frame.\n",
    "\n",
    "STEP2: Apply thresholds to create a binary image\n",
    "\n",
    "STEP3: Apply a perspective transform"
   ]
  },
  {
   "cell_type": "code",
   "execution_count": null,
   "metadata": {
    "collapsed": true
   },
   "outputs": [],
   "source": []
  }
 ],
 "metadata": {
  "kernelspec": {
   "display_name": "Python 3",
   "language": "python",
   "name": "python3"
  },
  "language_info": {
   "codemirror_mode": {
    "name": "ipython",
    "version": 3
   },
   "file_extension": ".py",
   "mimetype": "text/x-python",
   "name": "python",
   "nbconvert_exporter": "python",
   "pygments_lexer": "ipython3",
   "version": "3.6.5"
  }
 },
 "nbformat": 4,
 "nbformat_minor": 2
}
